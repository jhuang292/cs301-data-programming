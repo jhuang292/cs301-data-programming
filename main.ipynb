{
 "cells": [
  {
   "cell_type": "code",
   "execution_count": 1,
   "metadata": {},
   "outputs": [
    {
     "data": {
      "text/plain": [
       "33"
      ]
     },
     "execution_count": 1,
     "metadata": {},
     "output_type": "execute_result"
    }
   ],
   "source": [
    "#q1\n",
    "import project\n",
    "dir(project)\n",
    "project.init(\"madison.csv\")\n",
    "project.get_id(\"library\")"
   ]
  },
  {
   "cell_type": "code",
   "execution_count": 2,
   "metadata": {},
   "outputs": [
    {
     "data": {
      "text/plain": [
       "19.76071"
      ]
     },
     "execution_count": 2,
     "metadata": {},
     "output_type": "execute_result"
    }
   ],
   "source": [
    "#q2\n",
    "project.get_spending(44, 2018)"
   ]
  },
  {
   "cell_type": "code",
   "execution_count": 3,
   "metadata": {},
   "outputs": [
    {
     "data": {
      "text/plain": [
       "26.655754419999994"
      ]
     },
     "execution_count": 3,
     "metadata": {},
     "output_type": "execute_result"
    }
   ],
   "source": [
    "#q3\n",
    "streets_id = project.get_id(\"streets\")\n",
    "project.get_spending(streets_id,2017)"
   ]
  },
  {
   "cell_type": "code",
   "execution_count": 4,
   "metadata": {},
   "outputs": [
    {
     "data": {
      "text/plain": [
       "68.06346877"
      ]
     },
     "execution_count": 4,
     "metadata": {},
     "output_type": "execute_result"
    }
   ],
   "source": [
    "#q4\n",
    "import project\n",
    "def year_max(year):\n",
    "    police_spending = project.get_spending(project.get_id(\"police\"), year)\n",
    "    fire_spending = project.get_spending(project.get_id(\"fire\"), year)\n",
    "    library_spending = project.get_spending(project.get_id(\"library\"), year)\n",
    "    parks_spending = project.get_spending(project.get_id(\"parks\"), year)\n",
    "    streets_spending = project.get_spending(project.get_id(\"streets\"), year)\n",
    "    \n",
    "    return max(police_spending, fire_spending, library_spending, parks_spending, streets_spending)\n",
    "year_max(2015)"
   ]
  },
  {
   "cell_type": "code",
   "execution_count": 5,
   "metadata": {},
   "outputs": [
    {
     "data": {
      "text/plain": [
       "77.87553504"
      ]
     },
     "execution_count": 5,
     "metadata": {},
     "output_type": "execute_result"
    }
   ],
   "source": [
    "#q5\n",
    "def year_max(year):\n",
    "    police_spending =project.get_spending(project.get_id(\"police\"),year)\n",
    "    fire_spending = project.get_spending(project.get_id(\"fire\"), year)\n",
    "    library_spending = project.get_spending(project.get_id(\"library\"), year)\n",
    "    parks_spending = project.get_spending(project.get_id(\"parks\"), year)\n",
    "    streets_spending = project.get_spending(project.get_id(\"streets\"), year)\n",
    "    \n",
    "    return max(police_spending, fire_spending, library_spending, parks_spending, streets_spending)\n",
    "year_max(2018)"
   ]
  },
  {
   "cell_type": "code",
   "execution_count": 6,
   "metadata": {},
   "outputs": [
    {
     "data": {
      "text/plain": [
       "68.06346877"
      ]
     },
     "execution_count": 6,
     "metadata": {},
     "output_type": "execute_result"
    }
   ],
   "source": [
    "#q6\n",
    "def agency_min(agency):\n",
    "    agency_id = project.get_id(agency)\n",
    "    y15 = project.get_spending(agency_id, 2015)\n",
    "    y16 = project.get_spending(agency_id, 2016)\n",
    "    y17 = project.get_spending(agency_id, 2017)\n",
    "    y18 = project.get_spending(agency_id, 2018)\n",
    "    return min(y15,y16,y17,y18)\n",
    "agency_min(\"police\")"
   ]
  },
  {
   "cell_type": "code",
   "execution_count": 7,
   "metadata": {},
   "outputs": [
    {
     "data": {
      "text/plain": [
       "49.73757877"
      ]
     },
     "execution_count": 7,
     "metadata": {},
     "output_type": "execute_result"
    }
   ],
   "source": [
    "#q7\n",
    "def agency_min(agency):\n",
    "    agency_id = project.get_id(agency)\n",
    "    y15 = project.get_spending(agency_id, 2015)\n",
    "    y16 = project.get_spending(agency_id, 2016)\n",
    "    y17 = project.get_spending(agency_id, 2017)\n",
    "    y18 = project.get_spending(agency_id, 2018)\n",
    "    return min(y15,y16,y17,y18)\n",
    "agency_min(\"fire\")"
   ]
  },
  {
   "cell_type": "code",
   "execution_count": 8,
   "metadata": {},
   "outputs": [
    {
     "data": {
      "text/plain": [
       "16.96543425"
      ]
     },
     "execution_count": 8,
     "metadata": {},
     "output_type": "execute_result"
    }
   ],
   "source": [
    "#q8\n",
    "def agency_min(agency):\n",
    "    agency_id = project.get_id(agency)\n",
    "    y15 = project.get_spending(agency_id, 2015)\n",
    "    y16 = project.get_spending(agency_id, 2016)\n",
    "    y17 = project.get_spending(agency_id, 2017)\n",
    "    y18 = project.get_spending(agency_id, 2018)\n",
    "    return min(y15,y16,y17,y18)\n",
    "agency_min(\"library\")"
   ]
  },
  {
   "cell_type": "code",
   "execution_count": 8,
   "metadata": {},
   "outputs": [
    {
     "data": {
      "text/plain": [
       "27.013047475"
      ]
     },
     "execution_count": 8,
     "metadata": {},
     "output_type": "execute_result"
    }
   ],
   "source": [
    "#q9\n",
    "def agency_avg(agency):\n",
    "    agency_id = project.get_id(agency)\n",
    "    y15 = project.get_spending(agency_id, 2015)\n",
    "    y16 = project.get_spending(agency_id, 2016)\n",
    "    y17 = project.get_spending(agency_id, 2017)\n",
    "    y18 = project.get_spending(agency_id, 2018)\n",
    "    return (y15 + y16 + y17 + y18) / 4\n",
    "agency_avg(\"streets\")"
   ]
  },
  {
   "cell_type": "code",
   "execution_count": 9,
   "metadata": {},
   "outputs": [
    {
     "data": {
      "text/plain": [
       "19.152052834999996"
      ]
     },
     "execution_count": 9,
     "metadata": {},
     "output_type": "execute_result"
    }
   ],
   "source": [
    "#q10\n",
    "agency_avg(\"parks\")"
   ]
  },
  {
   "cell_type": "code",
   "execution_count": 10,
   "metadata": {},
   "outputs": [
    {
     "data": {
      "text/plain": [
       "5.247358135000013"
      ]
     },
     "execution_count": 10,
     "metadata": {},
     "output_type": "execute_result"
    }
   ],
   "source": [
    "#q11\n",
    "project.get_spending(project.get_id(\"police\"), 2018) - agency_avg(\"police\")"
   ]
  },
  {
   "cell_type": "code",
   "execution_count": 11,
   "metadata": {},
   "outputs": [
    {
     "data": {
      "text/plain": [
       "3.2706887566666674"
      ]
     },
     "execution_count": 11,
     "metadata": {},
     "output_type": "execute_result"
    }
   ],
   "source": [
    "#q12\n",
    "def change_per_year(agency, start_year, end_year):\n",
    "    agency_id = project.get_id(agency)\n",
    "    y_end = project.get_spending(agency_id, end_year)\n",
    "    y_start = project.get_spending(agency_id, start_year)\n",
    "    return (y_end - y_start) / (end_year - start_year)\n",
    "change_per_year(\"police\", 2015, 2018)"
   ]
  },
  {
   "cell_type": "code",
   "execution_count": 12,
   "metadata": {},
   "outputs": [
    {
     "data": {
      "text/plain": [
       "4.627587380000023"
      ]
     },
     "execution_count": 12,
     "metadata": {},
     "output_type": "execute_result"
    }
   ],
   "source": [
    "#q13\n",
    "change_per_year(\"police\", 2017, 2018)"
   ]
  },
  {
   "cell_type": "code",
   "execution_count": 13,
   "metadata": {},
   "outputs": [
    {
     "data": {
      "text/plain": [
       "-0.2148440299999983"
      ]
     },
     "execution_count": 13,
     "metadata": {},
     "output_type": "execute_result"
    }
   ],
   "source": [
    "#q14\n",
    "change_per_year(\"streets\", 2016, 2018)"
   ]
  },
  {
   "cell_type": "code",
   "execution_count": 14,
   "metadata": {},
   "outputs": [
    {
     "data": {
      "text/plain": [
       "19.845065799999997"
      ]
     },
     "execution_count": 14,
     "metadata": {},
     "output_type": "execute_result"
    }
   ],
   "source": [
    "#q15\n",
    "def extrapolate(agency, year1, year2, year3):\n",
    "    const_rate = change_per_year(agency, year1, year2)\n",
    "    agency_id = project.get_id(agency)\n",
    "    return project.get_spending(agency_id, year2) * (year3 - year2)\n",
    "extrapolate(\"library\", 2015, 2018, 2019)"
   ]
  },
  {
   "cell_type": "code",
   "execution_count": 15,
   "metadata": {},
   "outputs": [
    {
     "data": {
      "text/plain": [
       "1627.2953955999997"
      ]
     },
     "execution_count": 15,
     "metadata": {},
     "output_type": "execute_result"
    }
   ],
   "source": [
    "#q16\n",
    "extrapolate(\"library\", 2015, 2018, 2100)"
   ]
  },
  {
   "cell_type": "code",
   "execution_count": 16,
   "metadata": {},
   "outputs": [
    {
     "data": {
      "text/plain": [
       "1627.2953955999997"
      ]
     },
     "execution_count": 16,
     "metadata": {},
     "output_type": "execute_result"
    }
   ],
   "source": [
    "#17\n",
    "extrapolate(\"library\", 2017, 2018, 2100)"
   ]
  },
  {
   "cell_type": "code",
   "execution_count": 18,
   "metadata": {},
   "outputs": [
    {
     "data": {
      "text/plain": [
       "-4.627587380000023"
      ]
     },
     "execution_count": 18,
     "metadata": {},
     "output_type": "execute_result"
    }
   ],
   "source": [
    "#q18\n",
    "def extrapolate_error(agency, year1, year2, year3):\n",
    "    expect = extrapolate(agency, year1, year2, year3)\n",
    "    agency_id = project.get_id(agency)\n",
    "    actual = project.get_spending(agency_id, year3)\n",
    "    return expect - actual\n",
    "extrapolate_error(\"police\", 2015, 2017, 2018)"
   ]
  },
  {
   "cell_type": "code",
   "execution_count": 19,
   "metadata": {},
   "outputs": [
    {
     "data": {
      "text/plain": [
       "28.658309859999996"
      ]
     },
     "execution_count": 19,
     "metadata": {},
     "output_type": "execute_result"
    }
   ],
   "source": [
    "#q19\n",
    "extrapolate_error(\"streets\", 2015, 2016, 2018)"
   ]
  },
  {
   "cell_type": "code",
   "execution_count": 20,
   "metadata": {},
   "outputs": [
    {
     "data": {
      "text/plain": [
       "-1.1431793200000087"
      ]
     },
     "execution_count": 20,
     "metadata": {},
     "output_type": "execute_result"
    }
   ],
   "source": [
    "#q20\n",
    "extrapolate_error(\"streets\", 2015, 2017, 2018)"
   ]
  },
  {
   "cell_type": "code",
   "execution_count": null,
   "metadata": {},
   "outputs": [],
   "source": []
  }
 ],
 "metadata": {
  "kernelspec": {
   "display_name": "Python 3",
   "language": "python",
   "name": "python3"
  },
  "language_info": {
   "codemirror_mode": {
    "name": "ipython",
    "version": 3
   },
   "file_extension": ".py",
   "mimetype": "text/x-python",
   "name": "python",
   "nbconvert_exporter": "python",
   "pygments_lexer": "ipython3",
   "version": "3.6.7"
  }
 },
 "nbformat": 4,
 "nbformat_minor": 2
}
